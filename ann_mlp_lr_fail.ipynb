{
 "cells": [
  {
   "cell_type": "markdown",
   "metadata": {},
   "source": [
    "# Artificial Neural Network -- Multilayer Perceptron"
   ]
  },
  {
   "cell_type": "markdown",
   "metadata": {},
   "source": [
    "Here we use the cancer dataset to learn logistic regression."
   ]
  },
  {
   "cell_type": "markdown",
   "metadata": {},
   "source": [
    "## Dataset -- And, Or and XOr"
   ]
  },
  {
   "cell_type": "code",
   "execution_count": 1,
   "metadata": {},
   "outputs": [],
   "source": [
    "import numpy as np\n",
    "import pandas as pd\n",
    "from matplotlib import pyplot as plt\n",
    "%matplotlib inline\n",
    "\n",
    "from sklearn.model_selection import train_test_split\n"
   ]
  },
  {
   "cell_type": "code",
   "execution_count": 2,
   "metadata": {},
   "outputs": [
    {
     "data": {
      "text/html": [
       "<div>\n",
       "<style scoped>\n",
       "    .dataframe tbody tr th:only-of-type {\n",
       "        vertical-align: middle;\n",
       "    }\n",
       "\n",
       "    .dataframe tbody tr th {\n",
       "        vertical-align: top;\n",
       "    }\n",
       "\n",
       "    .dataframe thead th {\n",
       "        text-align: right;\n",
       "    }\n",
       "</style>\n",
       "<table border=\"1\" class=\"dataframe\">\n",
       "  <thead>\n",
       "    <tr style=\"text-align: right;\">\n",
       "      <th></th>\n",
       "      <th>x1</th>\n",
       "      <th>x2</th>\n",
       "      <th>y</th>\n",
       "    </tr>\n",
       "  </thead>\n",
       "  <tbody>\n",
       "    <tr>\n",
       "      <th>0</th>\n",
       "      <td>0</td>\n",
       "      <td>0</td>\n",
       "      <td>0</td>\n",
       "    </tr>\n",
       "    <tr>\n",
       "      <th>1</th>\n",
       "      <td>0</td>\n",
       "      <td>1</td>\n",
       "      <td>0</td>\n",
       "    </tr>\n",
       "    <tr>\n",
       "      <th>2</th>\n",
       "      <td>1</td>\n",
       "      <td>0</td>\n",
       "      <td>0</td>\n",
       "    </tr>\n",
       "    <tr>\n",
       "      <th>3</th>\n",
       "      <td>1</td>\n",
       "      <td>1</td>\n",
       "      <td>1</td>\n",
       "    </tr>\n",
       "  </tbody>\n",
       "</table>\n",
       "</div>"
      ],
      "text/plain": [
       "   x1  x2  y\n",
       "0   0   0  0\n",
       "1   0   1  0\n",
       "2   1   0  0\n",
       "3   1   1  1"
      ]
     },
     "execution_count": 2,
     "metadata": {},
     "output_type": "execute_result"
    }
   ],
   "source": [
    "values = np.array([[0,0,0],[0,1,0],[1,0,0],[1,1,1]])\n",
    "data_and = pd.DataFrame(columns=['x1','x2','y'],data=values)\n",
    "data_and"
   ]
  },
  {
   "cell_type": "code",
   "execution_count": 3,
   "metadata": {},
   "outputs": [
    {
     "data": {
      "text/html": [
       "<div>\n",
       "<style scoped>\n",
       "    .dataframe tbody tr th:only-of-type {\n",
       "        vertical-align: middle;\n",
       "    }\n",
       "\n",
       "    .dataframe tbody tr th {\n",
       "        vertical-align: top;\n",
       "    }\n",
       "\n",
       "    .dataframe thead th {\n",
       "        text-align: right;\n",
       "    }\n",
       "</style>\n",
       "<table border=\"1\" class=\"dataframe\">\n",
       "  <thead>\n",
       "    <tr style=\"text-align: right;\">\n",
       "      <th></th>\n",
       "      <th>x1</th>\n",
       "      <th>x2</th>\n",
       "      <th>y</th>\n",
       "    </tr>\n",
       "  </thead>\n",
       "  <tbody>\n",
       "    <tr>\n",
       "      <th>0</th>\n",
       "      <td>0</td>\n",
       "      <td>0</td>\n",
       "      <td>0</td>\n",
       "    </tr>\n",
       "    <tr>\n",
       "      <th>1</th>\n",
       "      <td>0</td>\n",
       "      <td>1</td>\n",
       "      <td>1</td>\n",
       "    </tr>\n",
       "    <tr>\n",
       "      <th>2</th>\n",
       "      <td>1</td>\n",
       "      <td>0</td>\n",
       "      <td>1</td>\n",
       "    </tr>\n",
       "    <tr>\n",
       "      <th>3</th>\n",
       "      <td>1</td>\n",
       "      <td>1</td>\n",
       "      <td>1</td>\n",
       "    </tr>\n",
       "  </tbody>\n",
       "</table>\n",
       "</div>"
      ],
      "text/plain": [
       "   x1  x2  y\n",
       "0   0   0  0\n",
       "1   0   1  1\n",
       "2   1   0  1\n",
       "3   1   1  1"
      ]
     },
     "execution_count": 3,
     "metadata": {},
     "output_type": "execute_result"
    }
   ],
   "source": [
    "values = np.array([[0,0,0],[0,1,1],[1,0,1],[1,1,1]])\n",
    "data_or = pd.DataFrame(columns=['x1','x2','y'],data=values)\n",
    "data_or"
   ]
  },
  {
   "cell_type": "code",
   "execution_count": 4,
   "metadata": {
    "scrolled": true
   },
   "outputs": [
    {
     "data": {
      "text/html": [
       "<div>\n",
       "<style scoped>\n",
       "    .dataframe tbody tr th:only-of-type {\n",
       "        vertical-align: middle;\n",
       "    }\n",
       "\n",
       "    .dataframe tbody tr th {\n",
       "        vertical-align: top;\n",
       "    }\n",
       "\n",
       "    .dataframe thead th {\n",
       "        text-align: right;\n",
       "    }\n",
       "</style>\n",
       "<table border=\"1\" class=\"dataframe\">\n",
       "  <thead>\n",
       "    <tr style=\"text-align: right;\">\n",
       "      <th></th>\n",
       "      <th>x1</th>\n",
       "      <th>x2</th>\n",
       "      <th>y</th>\n",
       "    </tr>\n",
       "  </thead>\n",
       "  <tbody>\n",
       "    <tr>\n",
       "      <th>0</th>\n",
       "      <td>0</td>\n",
       "      <td>0</td>\n",
       "      <td>0</td>\n",
       "    </tr>\n",
       "    <tr>\n",
       "      <th>1</th>\n",
       "      <td>0</td>\n",
       "      <td>1</td>\n",
       "      <td>1</td>\n",
       "    </tr>\n",
       "    <tr>\n",
       "      <th>2</th>\n",
       "      <td>1</td>\n",
       "      <td>0</td>\n",
       "      <td>1</td>\n",
       "    </tr>\n",
       "    <tr>\n",
       "      <th>3</th>\n",
       "      <td>1</td>\n",
       "      <td>1</td>\n",
       "      <td>0</td>\n",
       "    </tr>\n",
       "  </tbody>\n",
       "</table>\n",
       "</div>"
      ],
      "text/plain": [
       "   x1  x2  y\n",
       "0   0   0  0\n",
       "1   0   1  1\n",
       "2   1   0  1\n",
       "3   1   1  0"
      ]
     },
     "execution_count": 4,
     "metadata": {},
     "output_type": "execute_result"
    }
   ],
   "source": [
    "values = np.array([[0,0,0],[0,1,1],[1,0,1],[1,1,0]])\n",
    "data_xor = pd.DataFrame(columns=['x1','x2','y'],data=values)\n",
    "data_xor"
   ]
  },
  {
   "cell_type": "code",
   "execution_count": null,
   "metadata": {},
   "outputs": [],
   "source": []
  },
  {
   "cell_type": "code",
   "execution_count": null,
   "metadata": {},
   "outputs": [],
   "source": []
  },
  {
   "cell_type": "code",
   "execution_count": null,
   "metadata": {},
   "outputs": [],
   "source": []
  },
  {
   "cell_type": "markdown",
   "metadata": {},
   "source": [
    "# Logistic Regression\n",
    "## Model\n",
    "In order to scale the result between 0 and 1, we use Sigmoid function.\n"
   ]
  },
  {
   "cell_type": "markdown",
   "metadata": {},
   "source": []
  },
  {
   "cell_type": "code",
   "execution_count": 5,
   "metadata": {},
   "outputs": [],
   "source": [
    "def sigmoid(z):\n",
    "    s = 1/(1+np.exp(-z))\n",
    "    if len(s.shape)==1:\n",
    "        s = s.reshape(s.shape[0],1)\n",
    "    return s"
   ]
  },
  {
   "cell_type": "code",
   "execution_count": 6,
   "metadata": {},
   "outputs": [
    {
     "data": {
      "image/png": "[encoded data removed]",
      "text/plain": [
       "<Figure size 432x288 with 1 Axes>"
      ]
     },
     "metadata": {
      "needs_background": "light"
     },
     "output_type": "display_data"
    }
   ],
   "source": [
    "def draw_sigmoid():\n",
    "    x = np.arange(-6, 6, .01)\n",
    "    y = sigmoid(x)\n",
    "\n",
    "    plt.plot(x, y, color='red', lw=2)\n",
    "    plt.show()\n",
    "\n",
    "draw_sigmoid()"
   ]
  },
  {
   "cell_type": "markdown",
   "metadata": {},
   "source": [
    "when we replace z with $\\theta x$, we get the model function.\n",
    "\n",
    "$\\hat{y}=\\frac{1}{1 + e^{- \\theta x}}$"
   ]
  },
  {
   "cell_type": "code",
   "execution_count": 7,
   "metadata": {},
   "outputs": [],
   "source": [
    "def model(theta, X):\n",
    "    z = np.sum(theta.T * X, axis=1)\n",
    "    return sigmoid(z)"
   ]
  },
  {
   "cell_type": "markdown",
   "metadata": {},
   "source": [
    "## Loss Function"
   ]
  },
  {
   "cell_type": "code",
   "execution_count": 8,
   "metadata": {},
   "outputs": [],
   "source": [
    "#cross_entropy\n",
    "def cross_entropy(y, y_hat):\n",
    "    n_samples = y.shape[0]\n",
    "    return sum(-y*np.log(y_hat)-(1-y)*np.log(1-y_hat))/n_samples\n",
    "\n",
    "def cost_function(theta, X, y):\n",
    "    y_hat = model(theta, X)\n",
    "    return cross_entropy(y, y_hat)"
   ]
  },
  {
   "cell_type": "markdown",
   "metadata": {},
   "source": [
    "## Optimizer\n",
    "\n",
    "Let us name the lost function as **J**\n",
    "\n",
    "$J= - y * log(\\hat{y}) - (1-y) * log(1-\\hat{y})$\n",
    "\n",
    "So the devivative of J will be:\n",
    "\n",
    "$\\frac{\\partial J}{\\partial \\theta} = - \\frac{\\partial (y * log(\\hat{y}) + (1-y) * log(1-\\hat{y}))}{\\partial \\theta}$\n",
    "\n",
    "$ = - \\frac{\\partial (y * log(\\hat{y}))}{\\partial \\theta} - \\frac{\\partial  ((1-y) * log(1-\\hat{y}))}{\\partial \\theta}$\n",
    "\n",
    "$ = - y * \\frac{\\partial log(\\hat{y})}{\\partial \\theta} - (1-y) * \\frac{log(1-\\hat{y})}{\\partial \\theta}$\n",
    "\n",
    "$ = - \\frac{y}{\\hat{y}} *\\frac{\\partial \\hat{y}}{\\partial \\theta} - \\frac{1-y}{1-\\hat{y}} *\\frac{\\partial (1-\\hat{y})}{\\partial \\theta}$\n",
    "\n",
    "$ = - \\frac{y}{\\hat{y}} *\\frac{\\partial \\hat{y}}{\\partial \\theta} + \\frac{1-y}{1-\\hat{y}} *\\frac{\\partial (\\hat{y})}{\\partial \\theta}$\n",
    "\n",
    "$ = (- \\frac{y}{\\hat{y}} + \\frac{1-y}{1-\\hat{y}} ) * \\frac{\\partial (\\hat{y})}{\\partial \\theta}$\n",
    "\n",
    "$ = (- \\frac{y}{\\hat{y}} + \\frac{1-y}{1-\\hat{y}} ) * \\frac{\\partial (\\frac{1}{1 + e^{- \\theta x}})} {\\partial a}$\n",
    "\n",
    "$ = (- \\frac{y}{\\hat{y}} + \\frac{1-y}{1-\\hat{y}} ) * (- \\hat{y} ^ 2) \\frac{\\partial (1 + e^{- \\theta x})} {\\partial \\theta}$\n",
    "\n",
    "$ = (- \\frac{y}{\\hat{y}} + \\frac{1-y}{1-\\hat{y}} ) * (- \\hat{y} ^ 2) \\frac{\\partial (e^{- \\theta x})} {\\partial \\theta}$\n",
    "\n",
    "$ = (- \\frac{y}{\\hat{y}} + \\frac{1-y}{1-\\hat{y}} ) * (- \\hat{y} ^ 2) * e^{- \\theta x} \\frac{\\partial (- \\theta x)} {\\partial \\theta}$\n",
    "\n",
    "$ = (- \\frac{y}{\\hat{y}} + \\frac{1-y}{1-\\hat{y}} ) * \\hat{y} ^ 2 * e^{- \\theta x} * x $\n",
    "\n",
    "∵  $\\hat{y}=\\frac{1}{1 + e^{- \\theta x}}$ \n",
    "\n",
    "∴  $1 + e^{- \\theta x}=\\frac{1}{\\hat{y}}$ \n",
    "\n",
    "∴  $e^{- \\theta x}=\\frac{1}{\\hat{y}} - 1$ \n",
    "\n",
    "∴  $e^{- \\theta x}=\\frac{1-\\hat{y}}{\\hat{y}}$ \n",
    "\n",
    "$\\frac{\\partial J}{\\partial \\theta} = (- \\frac{y}{\\hat{y}} + \\frac{1-y}{1-\\hat{y}} ) * \\hat{y} ^ 2 * \\frac{1-\\hat{y}}{\\hat{y}} * x$\n",
    "\n",
    "$\\frac{\\partial J}{\\partial \\theta} = (- \\frac{y}{\\hat{y}} + \\frac{1-y}{1-\\hat{y}} ) * \\hat{y} * (1-\\hat{y}) * x$\n",
    "\n",
    "$\\frac{\\partial J}{\\partial \\theta} = (- y * (1-\\hat{y}) + (1-y) * \\hat{y} ) * x$\n",
    "\n",
    "$\\frac{\\partial J}{\\partial \\theta} = (- y + y *\\hat{y} + \\hat{y}-y * \\hat{y} ) * x$\n",
    "\n",
    "$\\frac{\\partial J}{\\partial \\theta} = (\\hat{y}-y ) * x$\n",
    "\n",
    "Thus the optimizer will be:\n",
    "\n",
    "$\\theta = \\theta - \\alpha * \\frac{\\partial J}{\\partial \\theta}$\n",
    "\n",
    "$\\theta = \\theta - \\alpha * (\\hat{y}-y ) * x$"
   ]
  },
  {
   "cell_type": "markdown",
   "metadata": {},
   "source": [
    "Let us write the code of it."
   ]
  },
  {
   "cell_type": "code",
   "execution_count": 9,
   "metadata": {},
   "outputs": [],
   "source": [
    "def optimize(theta,X,y):\n",
    "    n = X.shape[0]\n",
    "    n_theta = theta.shape[0]\n",
    "    alpha = 1e-1\n",
    "\n",
    "    y_hat = model(theta,X)\n",
    "\n",
    "    dtheta = (1.0/n) * ((y_hat-y)*X)\n",
    "    dtheta = np.sum(dtheta, axis=0)\n",
    "    dtheta=dtheta.reshape((n_theta,1))\n",
    "    theta = theta - alpha * dtheta\n",
    "    return theta"
   ]
  },
  {
   "cell_type": "markdown",
   "metadata": {},
   "source": [
    "## Evaluation\n",
    "We evaluate the performance of classification algorithms by accuracy. You can also use ROC, recall, precision, F1 score and so on. But here I just use accuracy. Three functions are given. The first calcuate $\\hat{y}$, which is a number between 0 and 1. The second function use the result of the first function and "
   ]
  },
  {
   "cell_type": "code",
   "execution_count": 10,
   "metadata": {},
   "outputs": [],
   "source": [
    "def predict_proba(theta, X):\n",
    "    y_hat=model(theta, X)\n",
    "    return y_hat\n",
    "\n",
    "def predict(X, theta):\n",
    "    y_hat=predict_proba(theta,X)\n",
    "    y_hard=(y_hat > 0.5) * 1\n",
    "    return y_hard\n",
    "\n",
    "def accuracy(theta, X, y):\n",
    "    y_hard=predict(X, theta)\n",
    "    count_right=sum(y_hard == y)\n",
    "    return count_right*1.0/len(y)"
   ]
  },
  {
   "cell_type": "markdown",
   "metadata": {},
   "source": [
    "## Iterations"
   ]
  },
  {
   "cell_type": "code",
   "execution_count": 11,
   "metadata": {},
   "outputs": [],
   "source": [
    "def lr_iterate(theta,X,y,times):\n",
    "    costs = []\n",
    "    accs = []\n",
    "    for i in range(times):\n",
    "        theta = optimize(theta,X,y)\n",
    "        costs.append(cost_function(theta, X, y))\n",
    "        accs.append(accuracy(theta, X, y))\n",
    "\n",
    "    return theta, costs, accs"
   ]
  },
  {
   "cell_type": "markdown",
   "metadata": {},
   "source": [
    "# Using Logistic Regression\n",
    "## And"
   ]
  },
  {
   "cell_type": "code",
   "execution_count": 12,
   "metadata": {},
   "outputs": [],
   "source": [
    "X = data_and[['x1','x2']]\n",
    "y = np.array(data_and['y']).reshape((4,1))\n",
    "n_features = X.shape[1]"
   ]
  },
  {
   "cell_type": "markdown",
   "metadata": {},
   "source": [
    "Append ones at the beginning of each row of matrix."
   ]
  },
  {
   "cell_type": "code",
   "execution_count": 13,
   "metadata": {},
   "outputs": [],
   "source": [
    "def add_ones(X):\n",
    "    ones=np.ones((X.shape[0],1))\n",
    "    X_with_ones=np.hstack((ones, X))\n",
    "    return X_with_ones"
   ]
  },
  {
   "cell_type": "code",
   "execution_count": 14,
   "metadata": {},
   "outputs": [],
   "source": [
    "X_with_ones = add_ones(X)"
   ]
  },
  {
   "cell_type": "code",
   "execution_count": 15,
   "metadata": {},
   "outputs": [
    {
     "data": {
      "text/plain": [
       "array([[1., 0., 0.],\n",
       "       [1., 0., 1.],\n",
       "       [1., 1., 0.],\n",
       "       [1., 1., 1.]])"
      ]
     },
     "execution_count": 15,
     "metadata": {},
     "output_type": "execute_result"
    }
   ],
   "source": [
    "X_with_ones"
   ]
  },
  {
   "cell_type": "markdown",
   "metadata": {},
   "source": [
    "Split Train and test data"
   ]
  },
  {
   "cell_type": "code",
   "execution_count": 16,
   "metadata": {},
   "outputs": [],
   "source": [
    "theta = np.ones((n_features+1,1))"
   ]
  },
  {
   "cell_type": "code",
   "execution_count": 18,
   "metadata": {},
   "outputs": [],
   "source": [
    "theta, costs, accs = lr_iterate(theta, X_with_ones, y, 50)"
   ]
  },
  {
   "cell_type": "code",
   "execution_count": 19,
   "metadata": {},
   "outputs": [
    {
     "data": {
      "text/plain": [
       "array([[-0.84391555],\n",
       "       [ 0.53295346],\n",
       "       [ 0.53295346]])"
      ]
     },
     "execution_count": 19,
     "metadata": {},
     "output_type": "execute_result"
    }
   ],
   "source": [
    "theta"
   ]
  },
  {
   "cell_type": "code",
   "execution_count": 20,
   "metadata": {},
   "outputs": [
    {
     "data": {
      "text/plain": [
       "array([[0],\n",
       "       [0],\n",
       "       [0],\n",
       "       [1]])"
      ]
     },
     "execution_count": 20,
     "metadata": {},
     "output_type": "execute_result"
    }
   ],
   "source": [
    "predict(X_with_ones, theta)"
   ]
  },
  {
   "cell_type": "code",
   "execution_count": 21,
   "metadata": {
    "scrolled": true
   },
   "outputs": [
    {
     "data": {
      "text/plain": [
       "[<matplotlib.lines.Line2D at 0x290419db128>]"
      ]
     },
     "execution_count": 21,
     "metadata": {},
     "output_type": "execute_result"
    },
    {
     "data": {
      "image/png": "[encoded data removed]",
      "text/plain": [
       "<Figure size 432x288 with 1 Axes>"
      ]
     },
     "metadata": {
      "needs_background": "light"
     },
     "output_type": "display_data"
    }
   ],
   "source": [
    "plt.plot(costs)"
   ]
  },
  {
   "cell_type": "code",
   "execution_count": 22,
   "metadata": {
    "scrolled": true
   },
   "outputs": [
    {
     "data": {
      "text/plain": [
       "[<matplotlib.lines.Line2D at 0x29041a3d978>]"
      ]
     },
     "execution_count": 22,
     "metadata": {},
     "output_type": "execute_result"
    },
    {
     "data": {
      "image/png": "[encoded data removed]",
      "text/plain": [
       "<Figure size 432x288 with 1 Axes>"
      ]
     },
     "metadata": {
      "needs_background": "light"
     },
     "output_type": "display_data"
    }
   ],
   "source": [
    "plt.plot(accs)"
   ]
  },
  {
   "cell_type": "code",
   "execution_count": null,
   "metadata": {},
   "outputs": [],
   "source": []
  },
  {
   "cell_type": "markdown",
   "metadata": {},
   "source": [
    "## Or"
   ]
  },
  {
   "cell_type": "code",
   "execution_count": 23,
   "metadata": {},
   "outputs": [],
   "source": [
    "X = data_or[['x1','x2']]\n",
    "y = np.array(data_or['y']).reshape((4,1))\n",
    "n_features = X.shape[1]"
   ]
  },
  {
   "cell_type": "markdown",
   "metadata": {},
   "source": [
    "Append ones at the beginning of each row of matrix."
   ]
  },
  {
   "cell_type": "code",
   "execution_count": null,
   "metadata": {},
   "outputs": [],
   "source": []
  },
  {
   "cell_type": "code",
   "execution_count": 24,
   "metadata": {},
   "outputs": [],
   "source": [
    "X_with_ones = add_ones(X)"
   ]
  },
  {
   "cell_type": "code",
   "execution_count": 25,
   "metadata": {},
   "outputs": [
    {
     "data": {
      "text/plain": [
       "array([[1., 0., 0.],\n",
       "       [1., 0., 1.],\n",
       "       [1., 1., 0.],\n",
       "       [1., 1., 1.]])"
      ]
     },
     "execution_count": 25,
     "metadata": {},
     "output_type": "execute_result"
    }
   ],
   "source": [
    "X_with_ones"
   ]
  },
  {
   "cell_type": "markdown",
   "metadata": {},
   "source": [
    "Split Train and test data"
   ]
  },
  {
   "cell_type": "code",
   "execution_count": 26,
   "metadata": {},
   "outputs": [],
   "source": [
    "theta = np.ones((n_features+1,1))\n",
    "theta, costs, accs = lr_iterate(theta, X_with_ones, y, 200)"
   ]
  },
  {
   "cell_type": "code",
   "execution_count": null,
   "metadata": {},
   "outputs": [],
   "source": []
  },
  {
   "cell_type": "code",
   "execution_count": 27,
   "metadata": {},
   "outputs": [
    {
     "data": {
      "text/plain": [
       "array([[-0.18235687],\n",
       "       [ 1.9322805 ],\n",
       "       [ 1.9322805 ]])"
      ]
     },
     "execution_count": 27,
     "metadata": {},
     "output_type": "execute_result"
    }
   ],
   "source": [
    "theta"
   ]
  },
  {
   "cell_type": "code",
   "execution_count": 28,
   "metadata": {},
   "outputs": [
    {
     "data": {
      "text/plain": [
       "array([[0],\n",
       "       [1],\n",
       "       [1],\n",
       "       [1]])"
      ]
     },
     "execution_count": 28,
     "metadata": {},
     "output_type": "execute_result"
    }
   ],
   "source": [
    "predict(X_with_ones, theta)"
   ]
  },
  {
   "cell_type": "code",
   "execution_count": 29,
   "metadata": {
    "scrolled": true
   },
   "outputs": [
    {
     "data": {
      "text/plain": [
       "[<matplotlib.lines.Line2D at 0x29041aa6e48>]"
      ]
     },
     "execution_count": 29,
     "metadata": {},
     "output_type": "execute_result"
    },
    {
     "data": {
      "image/png": "[encoded data removed]",
      "text/plain": [
       "<Figure size 432x288 with 1 Axes>"
      ]
     },
     "metadata": {
      "needs_background": "light"
     },
     "output_type": "display_data"
    }
   ],
   "source": [
    "plt.plot(costs)"
   ]
  },
  {
   "cell_type": "code",
   "execution_count": 30,
   "metadata": {
    "scrolled": true
   },
   "outputs": [
    {
     "data": {
      "text/plain": [
       "[<matplotlib.lines.Line2D at 0x29041b0d940>]"
      ]
     },
     "execution_count": 30,
     "metadata": {},
     "output_type": "execute_result"
    },
    {
     "data": {
      "image/png": "[encoded data removed]",
      "text/plain": [
       "<Figure size 432x288 with 1 Axes>"
      ]
     },
     "metadata": {
      "needs_background": "light"
     },
     "output_type": "display_data"
    }
   ],
   "source": [
    "plt.plot(accs)"
   ]
  },
  {
   "cell_type": "markdown",
   "metadata": {},
   "source": [
    "Apply model to test data."
   ]
  },
  {
   "cell_type": "code",
   "execution_count": null,
   "metadata": {},
   "outputs": [],
   "source": []
  },
  {
   "cell_type": "markdown",
   "metadata": {},
   "source": [
    "\n",
    "## XOr"
   ]
  },
  {
   "cell_type": "code",
   "execution_count": 31,
   "metadata": {},
   "outputs": [
    {
     "data": {
      "text/html": [
       "<div>\n",
       "<style scoped>\n",
       "    .dataframe tbody tr th:only-of-type {\n",
       "        vertical-align: middle;\n",
       "    }\n",
       "\n",
       "    .dataframe tbody tr th {\n",
       "        vertical-align: top;\n",
       "    }\n",
       "\n",
       "    .dataframe thead th {\n",
       "        text-align: right;\n",
       "    }\n",
       "</style>\n",
       "<table border=\"1\" class=\"dataframe\">\n",
       "  <thead>\n",
       "    <tr style=\"text-align: right;\">\n",
       "      <th></th>\n",
       "      <th>x1</th>\n",
       "      <th>x2</th>\n",
       "      <th>y</th>\n",
       "    </tr>\n",
       "  </thead>\n",
       "  <tbody>\n",
       "    <tr>\n",
       "      <th>0</th>\n",
       "      <td>0</td>\n",
       "      <td>0</td>\n",
       "      <td>0</td>\n",
       "    </tr>\n",
       "    <tr>\n",
       "      <th>1</th>\n",
       "      <td>0</td>\n",
       "      <td>1</td>\n",
       "      <td>1</td>\n",
       "    </tr>\n",
       "    <tr>\n",
       "      <th>2</th>\n",
       "      <td>1</td>\n",
       "      <td>0</td>\n",
       "      <td>1</td>\n",
       "    </tr>\n",
       "    <tr>\n",
       "      <th>3</th>\n",
       "      <td>1</td>\n",
       "      <td>1</td>\n",
       "      <td>0</td>\n",
       "    </tr>\n",
       "  </tbody>\n",
       "</table>\n",
       "</div>"
      ],
      "text/plain": [
       "   x1  x2  y\n",
       "0   0   0  0\n",
       "1   0   1  1\n",
       "2   1   0  1\n",
       "3   1   1  0"
      ]
     },
     "execution_count": 31,
     "metadata": {},
     "output_type": "execute_result"
    }
   ],
   "source": [
    "data_xor"
   ]
  },
  {
   "cell_type": "code",
   "execution_count": 32,
   "metadata": {},
   "outputs": [],
   "source": [
    "X = data_xor[['x1','x2']]\n",
    "y = np.array(data_xor['y']).reshape((4,1))\n",
    "n_features = X.shape[1]"
   ]
  },
  {
   "cell_type": "markdown",
   "metadata": {},
   "source": [
    "Append ones at the beginning of each row of matrix."
   ]
  },
  {
   "cell_type": "code",
   "execution_count": 33,
   "metadata": {},
   "outputs": [],
   "source": [
    "def add_ones(X):\n",
    "    ones=np.ones((X.shape[0],1))\n",
    "    X_with_ones=np.hstack((ones, X))\n",
    "    return X_with_ones"
   ]
  },
  {
   "cell_type": "code",
   "execution_count": 34,
   "metadata": {},
   "outputs": [],
   "source": [
    "X_with_ones = add_ones(X)"
   ]
  },
  {
   "cell_type": "code",
   "execution_count": 35,
   "metadata": {},
   "outputs": [
    {
     "data": {
      "text/plain": [
       "array([[1., 0., 0.],\n",
       "       [1., 0., 1.],\n",
       "       [1., 1., 0.],\n",
       "       [1., 1., 1.]])"
      ]
     },
     "execution_count": 35,
     "metadata": {},
     "output_type": "execute_result"
    }
   ],
   "source": [
    "X_with_ones"
   ]
  },
  {
   "cell_type": "markdown",
   "metadata": {},
   "source": [
    "Split Train and test data"
   ]
  },
  {
   "cell_type": "code",
   "execution_count": 36,
   "metadata": {},
   "outputs": [],
   "source": [
    "theta = np.ones((n_features+1,1))\n",
    "theta, costs, accs = lr_iterate(theta, X_with_ones, y, 1000)"
   ]
  },
  {
   "cell_type": "code",
   "execution_count": null,
   "metadata": {},
   "outputs": [],
   "source": []
  },
  {
   "cell_type": "code",
   "execution_count": 37,
   "metadata": {},
   "outputs": [
    {
     "data": {
      "text/plain": [
       "array([[-0.00609355],\n",
       "       [ 0.00513729],\n",
       "       [ 0.00513729]])"
      ]
     },
     "execution_count": 37,
     "metadata": {},
     "output_type": "execute_result"
    }
   ],
   "source": [
    "theta"
   ]
  },
  {
   "cell_type": "code",
   "execution_count": 38,
   "metadata": {},
   "outputs": [
    {
     "data": {
      "text/plain": [
       "array([[0],\n",
       "       [0],\n",
       "       [0],\n",
       "       [1]])"
      ]
     },
     "execution_count": 38,
     "metadata": {},
     "output_type": "execute_result"
    }
   ],
   "source": [
    "predict(X_with_ones, theta)"
   ]
  },
  {
   "cell_type": "code",
   "execution_count": 39,
   "metadata": {
    "scrolled": true
   },
   "outputs": [
    {
     "data": {
      "text/plain": [
       "[<matplotlib.lines.Line2D at 0x29041b97320>]"
      ]
     },
     "execution_count": 39,
     "metadata": {},
     "output_type": "execute_result"
    },
    {
     "data": {
      "image/png": "[encoded data removed]",
      "text/plain": [
       "<Figure size 432x288 with 1 Axes>"
      ]
     },
     "metadata": {
      "needs_background": "light"
     },
     "output_type": "display_data"
    }
   ],
   "source": [
    "plt.plot(costs)"
   ]
  },
  {
   "cell_type": "code",
   "execution_count": 40,
   "metadata": {
    "scrolled": true
   },
   "outputs": [
    {
     "data": {
      "text/plain": [
       "[<matplotlib.lines.Line2D at 0x29041beb6a0>]"
      ]
     },
     "execution_count": 40,
     "metadata": {},
     "output_type": "execute_result"
    },
    {
     "data": {
      "image/png": "[encoded data removed]",
      "text/plain": [
       "<Figure size 432x288 with 1 Axes>"
      ]
     },
     "metadata": {
      "needs_background": "light"
     },
     "output_type": "display_data"
    }
   ],
   "source": [
    "plt.plot(accs)"
   ]
  },
  {
   "cell_type": "markdown",
   "metadata": {},
   "source": [
    "# Multilayer Perceptron"
   ]
  },
  {
   "cell_type": "code",
   "execution_count": 41,
   "metadata": {},
   "outputs": [
    {
     "name": "stdout",
     "output_type": "stream",
     "text": [
      "[[0.64986277 0.33002868 0.34866235 0.1729604  0.88120312 0.35819787]\n",
      " [0.86736953 0.88224624 0.08358989 0.52026664 0.9353654  0.27915095]\n",
      " [0.59867994 0.99532943 0.84768179 0.67493712 0.56583102 0.38147813]]\n",
      "[[0.35401488 0.68780947 0.18536698]\n",
      " [0.92310327 0.97621627 0.73400983]\n",
      " [0.63736489 0.33029443 0.7291721 ]\n",
      " [0.11835257 0.6130522  0.80914538]\n",
      " [0.99865169 0.69542745 0.58759449]\n",
      " [0.04820392 0.73668664 0.13855737]]\n",
      "[[0.40422817]\n",
      " [0.37811913]\n",
      " [0.15256673]]\n"
     ]
    }
   ],
   "source": [
    "theta1 = np.random.uniform(size=(3,6))\n",
    "theta2 = np.random.uniform(size=(6,3))\n",
    "theta3 = np.random.uniform(size=(3,1))\n",
    "theta = np.array([theta1, theta2, theta3])\n",
    "for i, sub_theta in enumerate(theta):\n",
    "    print(sub_theta)"
   ]
  },
  {
   "cell_type": "code",
   "execution_count": 42,
   "metadata": {},
   "outputs": [
    {
     "data": {
      "text/plain": [
       "array([[1., 0., 0.],\n",
       "       [1., 0., 1.],\n",
       "       [1., 1., 0.],\n",
       "       [1., 1., 1.]])"
      ]
     },
     "execution_count": 42,
     "metadata": {},
     "output_type": "execute_result"
    }
   ],
   "source": [
    "X_with_ones"
   ]
  },
  {
   "cell_type": "code",
   "execution_count": null,
   "metadata": {},
   "outputs": [],
   "source": []
  },
  {
   "cell_type": "code",
   "execution_count": 43,
   "metadata": {},
   "outputs": [],
   "source": [
    "def mlp_model(theta, X):\n",
    "    n_layers = len(theta)\n",
    "    layers = [X]\n",
    "    for i, sub_theta in enumerate(theta):\n",
    "        #print(i)\n",
    "        #print(X.shape)\n",
    "        #print(sub_theta.shape)\n",
    "        z = np.matmul(X, sub_theta)\n",
    "        #print(\"zzzzzzzzzzzzzzzzzzzzzzzzzzzzzzz\")\n",
    "        #print(z)\n",
    "        s = sigmoid(z)\n",
    "        X = s\n",
    "        layers.append(X)\n",
    "    y=X\n",
    "    return y, layers"
   ]
  },
  {
   "cell_type": "code",
   "execution_count": 44,
   "metadata": {},
   "outputs": [
    {
     "data": {
      "text/plain": [
       "(array([[0.69744155],\n",
       "        [0.70522046],\n",
       "        [0.70436438],\n",
       "        [0.70836522]]), [array([[1., 0., 0.],\n",
       "         [1., 0., 1.],\n",
       "         [1., 1., 0.],\n",
       "         [1., 1., 1.]]),\n",
       "  array([[0.65697954, 0.58176635, 0.58629316, 0.54313263, 0.70707148,\n",
       "          0.58860412],\n",
       "         [0.7770475 , 0.79007178, 0.76787379, 0.70012591, 0.80954157,\n",
       "          0.676925  ],\n",
       "         [0.82013056, 0.77070122, 0.60641135, 0.66668441, 0.86015387,\n",
       "          0.65415391],\n",
       "         [0.89244017, 0.90093031, 0.78243855, 0.79708338, 0.9154753 ,\n",
       "          0.73474404]]),\n",
       "  array([[0.87457893, 0.9221381 , 0.87133486],\n",
       "         [0.91817177, 0.95479283, 0.91832852],\n",
       "         [0.91354521, 0.95282433, 0.90849616],\n",
       "         [0.93645083, 0.96827291, 0.93595262]]),\n",
       "  array([[0.69744155],\n",
       "         [0.70522046],\n",
       "         [0.70436438],\n",
       "         [0.70836522]])])"
      ]
     },
     "execution_count": 44,
     "metadata": {},
     "output_type": "execute_result"
    }
   ],
   "source": [
    "mlp_model(theta, X_with_ones)"
   ]
  },
  {
   "cell_type": "code",
   "execution_count": 45,
   "metadata": {},
   "outputs": [],
   "source": [
    "def mlp_optimize(theta,X,y):\n",
    "    n = X.shape[0]\n",
    "    n_theta = theta.shape[0]\n",
    "    alpha = 1e-1\n",
    "\n",
    "    y_hat, layers = mlp_model(theta,X)\n",
    "    X_all = layers[:-1]\n",
    "    Y_all = layers[1:]\n",
    "    for X, Y in zip(X_all, Y_all):\n",
    "        dtheta = (1.0/n) * ((y_hat-y)*X)\n",
    "        dtheta = np.sum(dtheta, axis=0)\n",
    "        dtheta = dtheta.reshape((n_theta,1))\n",
    "        theta = theta - alpha * dtheta\n",
    "    return theta"
   ]
  },
  {
   "cell_type": "code",
   "execution_count": null,
   "metadata": {},
   "outputs": [],
   "source": []
  },
  {
   "cell_type": "code",
   "execution_count": null,
   "metadata": {},
   "outputs": [],
   "source": []
  },
  {
   "cell_type": "code",
   "execution_count": null,
   "metadata": {},
   "outputs": [],
   "source": []
  },
  {
   "cell_type": "markdown",
   "metadata": {},
   "source": [
    "# Use sklearn"
   ]
  },
  {
   "cell_type": "code",
   "execution_count": null,
   "metadata": {},
   "outputs": [],
   "source": [
    "from sklearn.neural_network import MLPClassifier"
   ]
  },
  {
   "cell_type": "code",
   "execution_count": null,
   "metadata": {},
   "outputs": [],
   "source": [
    "X = data_xor[['x1','x2']]\n",
    "y = np.array(data_xor['y']).reshape((4,1))"
   ]
  },
  {
   "cell_type": "code",
   "execution_count": null,
   "metadata": {},
   "outputs": [],
   "source": [
    "mlp = MLPClassifier(hidden_layer_sizes=(4,4), max_iter=2000, alpha=0.01, activation='relu')\n",
    "mlp.fit(X, y)"
   ]
  },
  {
   "cell_type": "code",
   "execution_count": null,
   "metadata": {},
   "outputs": [],
   "source": [
    "mlp.score(X,y)"
   ]
  },
  {
   "cell_type": "code",
   "execution_count": null,
   "metadata": {},
   "outputs": [],
   "source": [
    "mlp.predict(X)"
   ]
  },
  {
   "cell_type": "code",
   "execution_count": null,
   "metadata": {},
   "outputs": [],
   "source": [
    "y"
   ]
  },
  {
   "cell_type": "code",
   "execution_count": null,
   "metadata": {},
   "outputs": [],
   "source": []
  }
 ],
 "metadata": {
  "kernelspec": {
   "display_name": "Python 3",
   "language": "python",
   "name": "python3"
  },
  "language_info": {
   "codemirror_mode": {
    "name": "ipython",
    "version": 3
   },
   "file_extension": ".py",
   "mimetype": "text/x-python",
   "name": "python",
   "nbconvert_exporter": "python",
   "pygments_lexer": "ipython3",
   "version": "3.7.1"
  }
 },
 "nbformat": 4,
 "nbformat_minor": 2
}
