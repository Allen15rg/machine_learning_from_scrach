{
 "cells": [
  {
   "cell_type": "markdown",
   "metadata": {},
   "source": [
    "# Gradiant Boosting Classification"
   ]
  },
  {
   "cell_type": "code",
   "execution_count": 1,
   "metadata": {},
   "outputs": [],
   "source": [
    "from sklearn.tree import DecisionTreeRegressor\n",
    "from sklearn.datasets import load_breast_cancer\n",
    "import numpy as np\n",
    "import matplotlib.pyplot as plt"
   ]
  },
  {
   "cell_type": "code",
   "execution_count": null,
   "metadata": {},
   "outputs": [],
   "source": [
    "df=pd.DataFrame()\n",
    "df['name']=['Alex','Brunei','Candy','David','Eric','Felicity']\n",
    "df['age']=[12,87,44,19,32,14]\n",
    "df['favorite_color']=['Blue','Green','Blue','Red','Green','Blue']\n",
    "df['LovesTroll2']=['Yes','Yes','No','No','Yes','Yes']\n",
    "display(df)\n",
    "\n",
    "X=df[['age','gender']].copy()\n",
    "X['Blue']=0\n",
    "X.loc[df]\n",
    "X['Green']=0\n",
    "X['Red']=0\n",
    "\n",
    "y=df['weight']\n",
    "display(X)\n",
    "\n",
    "n=df.shape[0]"
   ]
  },
  {
   "cell_type": "markdown",
   "metadata": {},
   "source": [
    "## Load data"
   ]
  },
  {
   "cell_type": "code",
   "execution_count": 2,
   "metadata": {},
   "outputs": [
    {
     "name": "stdout",
     "output_type": "stream",
     "text": [
      "357 out of 569 persons have cancer\n",
      "features 30\n"
     ]
    }
   ],
   "source": [
    "cancer=load_breast_cancer()\n",
    "n_samples = len(cancer.target)\n",
    "X = cancer.data\n",
    "y = cancer.target\n",
    "total=len(y)\n",
    "has_cancer=np.sum(y)\n",
    "no_cancer=total-has_cancer\n",
    "print(f'{has_cancer} out of {total} persons have cancer')\n",
    "print(f'features {X.shape[1]}')"
   ]
  },
  {
   "cell_type": "markdown",
   "metadata": {},
   "source": [
    "## Step 1 Log of Odds"
   ]
  },
  {
   "cell_type": "code",
   "execution_count": 3,
   "metadata": {
    "scrolled": true
   },
   "outputs": [
    {
     "name": "stdout",
     "output_type": "stream",
     "text": [
      "the log_of_odds is : 0.5211495071076265\n",
      "the probability is : 0.6274165202108963\n"
     ]
    }
   ],
   "source": [
    "log_of_odds0=np.log(has_cancer / no_cancer)\n",
    "probability0=np.exp(log_of_odds0)/(np.exp(log_of_odds0)+1)\n",
    "print(f'the log_of_odds is : {log_of_odds0}')\n",
    "print(f'the probability is : {probability0}')\n",
    "predict0=1"
   ]
  },
  {
   "cell_type": "markdown",
   "metadata": {},
   "source": [
    "## Step 2 For Loop"
   ]
  },
  {
   "cell_type": "code",
   "execution_count": 4,
   "metadata": {},
   "outputs": [
    {
     "name": "stdout",
     "output_type": "stream",
     "text": [
      "loss is 375.7200026920845\n",
      "loss is 375.72000269208445\n",
      "gamma1 1.221364201577474\n",
      "gamma2 -2.4363001705150813\n",
      "new loss is 338.13703383104206\n"
     ]
    }
   ],
   "source": [
    "#explore\n",
    "residuals0=y - probability0\n",
    "loss0=-(y*np.log(probability0)+(1-y)*np.log(1-probability0))\n",
    "print(f'loss is {loss0.sum()}')\n",
    "loss0=-y * log_of_odds0 + np.log(1+np.exp(log_of_odds0))\n",
    "print(f'loss is {loss0.sum()}')\n",
    "\n",
    "tree0 = DecisionTreeRegressor(max_depth=1)\n",
    "tree0.fit(X, residuals0)\n",
    "stem = tree0.tree_\n",
    "\n",
    "leaf_index=tree0.apply(X)\n",
    "#for leaf 1\n",
    "n_leaf1=len(leaf_index[leaf_index==1])\n",
    "previous_probability1 = np.array([probability0] * n_leaf1)\n",
    "denominator1 = np.sum(previous_probability1 * (1-previous_probability1))\n",
    "gamma1 = stem.value[1][0][0] * n_leaf1 / denominator1\n",
    "print(f'gamma1 {gamma1}')\n",
    "#for leaf 2\n",
    "n_leaf2=len(leaf_index[leaf_index==2])\n",
    "previous_probability2 = np.array([probability0] * n_leaf2)\n",
    "denominator2 = np.sum(previous_probability2 * (1-previous_probability2))\n",
    "gamma2 = stem.value[2][0][0] * n_leaf2 / denominator2\n",
    "print(f'gamma2 {gamma2}')\n",
    "\n",
    "gamma_value=[gamma1, gamma2]\n",
    "gamma = np.array([gamma_value[index-1] for index in leaf_index])\n",
    "new_log_of_odds = log_of_odds0 + 0.1 * gamma\n",
    "new_loss=-y * new_log_of_odds + np.log(1+np.exp(new_log_of_odds))\n",
    "print(f'new loss is {new_loss.sum()}')"
   ]
  },
  {
   "cell_type": "code",
   "execution_count": 5,
   "metadata": {},
   "outputs": [],
   "source": [
    "#now let's get started\n",
    "n_times = 20\n",
    "learning_rate=0.1\n",
    "log_of_odds=np.zeros([n_times+1,n_samples])\n",
    "\n",
    "residuals = np.zeros([n_times+1,n_samples])\n",
    "loss = [0] * (n_times+1)\n",
    "prediction = np.zeros([n_times+1,n_samples])\n",
    "score = np.zeros([n_times+1])\n",
    "#calculation\n",
    "log_of_odds[0] = [log_of_odds0] * n_samples\n",
    "prediction[0] = [probability0] * n_samples\n",
    "score[0]=np.sum((prediction[0]>0.5)*1.0==y) / n_samples\n",
    "residuals[0] = y - prediction[0]\n",
    "loss[0] = loss0.sum()\n",
    "trees = []\n",
    "gamma_value = np.zeros([n_times+1,8])\n",
    "gamma = np.zeros([n_times+1,n_samples])"
   ]
  },
  {
   "cell_type": "code",
   "execution_count": 6,
   "metadata": {},
   "outputs": [],
   "source": [
    "for i in range(n_times):\n",
    "    dt = DecisionTreeRegressor(max_depth=2)\n",
    "    dt=dt.fit(X, residuals[i])\n",
    "    tree = dt.tree_\n",
    "    trees.append(tree)\n",
    "    leaf_indeces=dt.apply(X)\n",
    "    unique_leafs=np.unique(leaf_indeces)\n",
    "    n_leaf=len(unique_leafs)\n",
    "    #for leaf 1\n",
    "    for ileaf in range(n_leaf):\n",
    "        leaf_index=unique_leafs[ileaf]\n",
    "        n_leaf=len(leaf_indeces[leaf_indeces==leaf_index])\n",
    "        previous_probability = prediction[i][leaf_indeces==leaf_index]\n",
    "        denominator = np.sum(previous_probability * (1-previous_probability))\n",
    "        igamma = tree.value[ileaf+1][0][0] * n_leaf / denominator\n",
    "        gamma_value[i][ileaf]=igamma\n",
    "\n",
    "    gamma[i] = [gamma_value[i][np.where(unique_leafs==index)] for index in leaf_indeces]\n",
    "    #next \n",
    "    log_of_odds[i+1] = log_of_odds[i] + learning_rate * gamma[i]\n",
    "\n",
    "    prediction[i+1] = np.array([np.exp(odds)/(np.exp(odds)+1) for odds in log_of_odds[i+1]])\n",
    "    score[i+1]=np.sum((prediction[i+1]>0.5)*1.0==y) / n_samples\n",
    "    residuals[i+1] = y - prediction[i+1]\n",
    "    loss[i+1]=np.sum(-y * log_of_odds[i+1] + np.log(1+np.exp(log_of_odds[i+1])))"
   ]
  },
  {
   "cell_type": "code",
   "execution_count": 7,
   "metadata": {},
   "outputs": [
    {
     "data": {
      "text/plain": [
       "[<matplotlib.lines.Line2D at 0x21a2acdc9e8>]"
      ]
     },
     "execution_count": 7,
     "metadata": {},
     "output_type": "execute_result"
    },
    {
     "data": {
      "image/png": "[encoded data removed]",
      "text/plain": [
       "<Figure size 432x288 with 1 Axes>"
      ]
     },
     "metadata": {
      "needs_background": "light"
     },
     "output_type": "display_data"
    }
   ],
   "source": [
    "plt.plot(loss)"
   ]
  },
  {
   "cell_type": "code",
   "execution_count": 8,
   "metadata": {},
   "outputs": [
    {
     "data": {
      "text/plain": [
       "[<matplotlib.lines.Line2D at 0x21a2ad85240>]"
      ]
     },
     "execution_count": 8,
     "metadata": {},
     "output_type": "execute_result"
    },
    {
     "data": {
      "image/png": "[encoded data removed]",
      "text/plain": [
       "<Figure size 432x288 with 1 Axes>"
      ]
     },
     "metadata": {
      "needs_background": "light"
     },
     "output_type": "display_data"
    }
   ],
   "source": [
    "plt.plot(score)"
   ]
  },
  {
   "cell_type": "code",
   "execution_count": 9,
   "metadata": {},
   "outputs": [
    {
     "data": {
      "text/plain": [
       "array([0.62741652, 0.62741652, 0.62741652, 0.88400703, 0.89630931,\n",
       "       0.91739895, 0.91388401, 0.93497364, 0.93497364, 0.93497364,\n",
       "       0.93497364, 0.9314587 , 0.94200351, 0.94024605, 0.94376098,\n",
       "       0.94200351, 0.94903339, 0.94727592, 0.95079086, 0.94903339,\n",
       "       0.95606327])"
      ]
     },
     "execution_count": 9,
     "metadata": {},
     "output_type": "execute_result"
    }
   ],
   "source": [
    "score"
   ]
  },
  {
   "cell_type": "code",
   "execution_count": null,
   "metadata": {},
   "outputs": [],
   "source": []
  },
  {
   "cell_type": "markdown",
   "metadata": {},
   "source": [
    "# Reference"
   ]
  },
  {
   "cell_type": "markdown",
   "metadata": {},
   "source": [
    "[sklearn.tree.DecisionTreeRegressor -- scikit-learn 0.21.3 documentation](https://scikit-learn.org/stable/modules/generated/sklearn.tree.DecisionTreeRegressor.html)\n",
    "\n",
    "[Understanding the decision tree structure -- scikit-learn 0.21.3 documentation](https://scikit-learn.org/stable/auto_examples/tree/plot_unveil_tree_structure.html)"
   ]
  },
  {
   "cell_type": "code",
   "execution_count": null,
   "metadata": {},
   "outputs": [],
   "source": []
  }
 ],
 "metadata": {
  "kernelspec": {
   "display_name": "Python 3",
   "language": "python",
   "name": "python3"
  },
  "language_info": {
   "codemirror_mode": {
    "name": "ipython",
    "version": 3
   },
   "file_extension": ".py",
   "mimetype": "text/x-python",
   "name": "python",
   "nbconvert_exporter": "python",
   "pygments_lexer": "ipython3",
   "version": "3.7.4"
  }
 },
 "nbformat": 4,
 "nbformat_minor": 4
}
